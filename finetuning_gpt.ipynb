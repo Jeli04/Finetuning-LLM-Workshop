{
  "nbformat": 4,
  "nbformat_minor": 0,
  "metadata": {
    "colab": {
      "provenance": []
    },
    "kernelspec": {
      "name": "python3",
      "display_name": "Python 3"
    },
    "language_info": {
      "name": "python"
    }
  },
  "cells": [
    {
      "cell_type": "code",
      "source": [
        "import json\n",
        "import pandas as pd\n",
        "\n",
        "DEFAULT_SYSTEM_PROMPT = 'You are a banker who is to give the customers request a top category and sub category.'\n",
        "\n",
        "def create_dataset(dataset):\n",
        "    fine_tuning_data = []\n",
        "    for _, row in dataset.iterrows():\n",
        "        json_response = '{\"Top Category\": \"' + row['Top Category'] + '\", \"Sub Category\": \"' + row['Sub Category'] + '\"}'\n",
        "        fine_tuning_data.append({\n",
        "            \"messages\": [\n",
        "                {\"role\": \"user\", \"content\": row['Support Query']},\n",
        "                {\"role\": \"assistant\", \"content\": json_response}\n",
        "            ]\n",
        "        })\n",
        "    return fine_tuning_data\n",
        "\n",
        "def write_to_jsonl(data, file_path):\n",
        "    with open(file_path, 'w') as file:\n",
        "        for entry in data:\n",
        "            json.dump(entry, file)\n",
        "            file.write('\\n')\n"
      ],
      "metadata": {
        "id": "stmE89P5VAXh"
      },
      "execution_count": null,
      "outputs": []
    },
    {
      "cell_type": "code",
      "source": [
        "dataset = pd.read_csv('/content/bank_support_train.csv')\n",
        "converted_data = create_dataset(dataset)"
      ],
      "metadata": {
        "id": "8O7dwi5_mv3W"
      },
      "execution_count": null,
      "outputs": []
    },
    {
      "cell_type": "code",
      "source": [
        "from sklearn.model_selection import train_test_split\n",
        "\n",
        "# Stratified splitting. Assuming 'Top Category' can be used for stratification\n",
        "train_data, val_data = train_test_split(\n",
        "    converted_data,\n",
        "    test_size=0.2,\n",
        "    stratify=dataset['Top Category'],\n",
        "    random_state=42  # for reproducibility\n",
        ")"
      ],
      "metadata": {
        "id": "AV3hUss9j_rJ"
      },
      "execution_count": null,
      "outputs": []
    },
    {
      "cell_type": "code",
      "source": [
        "training_file_name = \"train.jsonl\"\n",
        "validation_file_name = \"val.jsonl\"\n",
        "\n",
        "write_to_jsonl(train_data, training_file_name)\n",
        "write_to_jsonl(val_data, validation_file_name)"
      ],
      "metadata": {
        "id": "ICoby-hNmrku"
      },
      "execution_count": null,
      "outputs": []
    },
    {
      "cell_type": "markdown",
      "source": [
        "Example output:\n",
        "\n",
        "input = \"How do I update my contact information\"\n",
        "\n",
        "output = {\"Top Category\": \"Customer Service\", \"Sub Category\":\n",
        "\"Contact Information\"}"
      ],
      "metadata": {
        "id": "-7FsSeVEn_Dl"
      }
    },
    {
      "cell_type": "code",
      "source": [],
      "metadata": {
        "id": "qmsMEKGEoTBm"
      },
      "execution_count": null,
      "outputs": []
    }
  ]
}